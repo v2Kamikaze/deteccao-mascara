{
 "cells": [
  {
   "cell_type": "code",
   "execution_count": 1,
   "id": "d8e3e651",
   "metadata": {},
   "outputs": [],
   "source": [
    "\"\"\"\n",
    "    install keras, tensorflow, pillow, matplotlib\n",
    "\"\"\"\n",
    "\n",
    "import os\n",
    "\n",
    "#  Para ignorar os warnings, caso não seja possível usar a GPU com o tensorflow.\n",
    "os.environ['TF_CPP_MIN_LOG_LEVEL'] = '3'\n",
    "\n",
    "from keras.callbacks import ModelCheckpoint, EarlyStopping\n",
    "from keras.layers import Conv2D, MaxPool2D, Dropout, Flatten, Dense\n",
    "from keras import Sequential\n",
    "from keras_preprocessing.image.directory_iterator import DirectoryIterator\n",
    "from keras_preprocessing.image.image_data_generator import ImageDataGenerator\n",
    "\n",
    "\n",
    "\n",
    "EPOCHS: int = 10\n",
    "PATH = \"./dataset\"\n",
    "BATCH_SIZE: int = 16\n",
    "UNITS: int = 256  # 256, 128, 64\n",
    "KERNEL_SIZE: int = 2\n",
    "FILTERS: int = 64"
   ]
  },
  {
   "cell_type": "code",
   "execution_count": 2,
   "id": "1c9e653c",
   "metadata": {},
   "outputs": [],
   "source": [
    "data_generator: ImageDataGenerator = ImageDataGenerator(\n",
    "    rescale=1/255, validation_split=0.3)"
   ]
  },
  {
   "cell_type": "code",
   "execution_count": 3,
   "id": "d9881bc2",
   "metadata": {},
   "outputs": [
    {
     "name": "stdout",
     "output_type": "stream",
     "text": [
      "Found 954 images belonging to 2 classes.\n"
     ]
    }
   ],
   "source": [
    "# Dados para treino\n",
    "train_generator: DirectoryIterator = data_generator.flow_from_directory(\n",
    "    directory=PATH,\n",
    "    shuffle=True,\n",
    "    seed=9,\n",
    "    class_mode=\"categorical\",\n",
    "    batch_size=BATCH_SIZE,\n",
    "    subset=\"training\",\n",
    ")"
   ]
  },
  {
   "cell_type": "code",
   "execution_count": 4,
   "id": "211b1115",
   "metadata": {},
   "outputs": [
    {
     "name": "stdout",
     "output_type": "stream",
     "text": [
      "Found 407 images belonging to 2 classes.\n"
     ]
    }
   ],
   "source": [
    "# Dados para validação\n",
    "validation_generator: DirectoryIterator = data_generator.flow_from_directory(\n",
    "    directory=PATH,\n",
    "    shuffle=True,\n",
    "    seed=9,\n",
    "    class_mode=\"categorical\",\n",
    "    batch_size=BATCH_SIZE,\n",
    "    subset=\"validation\",\n",
    ")"
   ]
  },
  {
   "cell_type": "code",
   "execution_count": 5,
   "id": "bb9a809e",
   "metadata": {},
   "outputs": [],
   "source": [
    "net_model: Sequential = Sequential()\n",
    "net_model.add(\n",
    "    Conv2D(\n",
    "        filters=FILTERS,\n",
    "        kernel_size=KERNEL_SIZE,\n",
    "        activation=\"relu\",\n",
    "        input_shape=(256, 256, 3),\n",
    "    )\n",
    ")\n",
    "\n",
    "net_model.add(MaxPool2D(pool_size=(2, 2)))\n",
    "\n",
    "# Dropout de 30% nos neurônios para que não ocorra overfitting, que é quando um modelo estatístico se ajusta \n",
    "# muito bem ao conjunto de dados anteriormente observado, mas se mostra ineficaz para prever novos resultados.\n",
    "net_model.add(Dropout(0.3))\n",
    "\n",
    "net_model.add(\n",
    "    Conv2D(\n",
    "        filters=FILTERS*2,\n",
    "        kernel_size=KERNEL_SIZE,\n",
    "        activation=\"relu\",\n",
    "    )\n",
    ")\n",
    "\n",
    "net_model.add(MaxPool2D(pool_size=(2, 2)))\n",
    "\n",
    "# Dropout de 30% nos neurônios.\n",
    "net_model.add(Dropout(0.3))\n",
    "\n",
    "# Achatando as entradas para um vetor, para assim passar para a camada completamente conectada(Dense).\n",
    "net_model.add(Flatten())\n",
    "\n",
    "net_model.add(Dense(units=UNITS, activation=\"relu\"))\n",
    "# Dropout de 50% nos neurônios.\n",
    "net_model.add(Dropout(0.5))\n",
    "\n",
    "# Duas classes [com ou sem máscara] e sigmoid para dar a probabilidade de acerto.\n",
    "net_model.add(Dense(units=2, activation=\"sigmoid\"))"
   ]
  },
  {
   "cell_type": "code",
   "execution_count": 6,
   "id": "b3113bcd",
   "metadata": {},
   "outputs": [
    {
     "name": "stdout",
     "output_type": "stream",
     "text": [
      "Model: \"sequential\"\n",
      "_________________________________________________________________\n",
      " Layer (type)                Output Shape              Param #   \n",
      "=================================================================\n",
      " conv2d (Conv2D)             (None, 255, 255, 64)      832       \n",
      "                                                                 \n",
      " max_pooling2d (MaxPooling2D  (None, 127, 127, 64)     0         \n",
      " )                                                               \n",
      "                                                                 \n",
      " dropout (Dropout)           (None, 127, 127, 64)      0         \n",
      "                                                                 \n",
      " conv2d_1 (Conv2D)           (None, 126, 126, 128)     32896     \n",
      "                                                                 \n",
      " max_pooling2d_1 (MaxPooling  (None, 63, 63, 128)      0         \n",
      " 2D)                                                             \n",
      "                                                                 \n",
      " dropout_1 (Dropout)         (None, 63, 63, 128)       0         \n",
      "                                                                 \n",
      " flatten (Flatten)           (None, 508032)            0         \n",
      "                                                                 \n",
      " dense (Dense)               (None, 256)               130056448 \n",
      "                                                                 \n",
      " dropout_2 (Dropout)         (None, 256)               0         \n",
      "                                                                 \n",
      " dense_1 (Dense)             (None, 2)                 514       \n",
      "                                                                 \n",
      "=================================================================\n",
      "Total params: 130,090,690\n",
      "Trainable params: 130,090,690\n",
      "Non-trainable params: 0\n",
      "_________________________________________________________________\n"
     ]
    }
   ],
   "source": [
    "net_model.summary()\n",
    "\n",
    "net_model.compile(\n",
    "    loss=\"binary_crossentropy\",\n",
    "    optimizer=\"adam\",\n",
    "    metrics=[\"accuracy\"],\n",
    ")"
   ]
  },
  {
   "cell_type": "code",
   "execution_count": 7,
   "id": "3762feac",
   "metadata": {},
   "outputs": [],
   "source": [
    "# Callback para salvar o modelo com melhor acerto.\n",
    "checkpoint: ModelCheckpoint = ModelCheckpoint(\n",
    "    filepath=\"mask_model.hdf5\",\n",
    "    monitor=\"val_loss\",\n",
    "    verbose=1,\n",
    "    mode=\"min\",\n",
    "    save_best_only=True,\n",
    "\n",
    ")\n",
    "\n",
    "# Callback para caso a rede pare de aprender em um intervalo de 5 épocas, o aprendizado seja interrompido.\n",
    "early_stop: EarlyStopping = EarlyStopping(\n",
    "    monitor=\"val_loss\",\n",
    "    min_delta=0.001,\n",
    "    patience=5,\n",
    "    verbose=1,\n",
    "    mode=\"min\",\n",
    ")"
   ]
  },
  {
   "cell_type": "code",
   "execution_count": null,
   "id": "2fb9e4be",
   "metadata": {},
   "outputs": [],
   "source": [
    "net_model.fit(\n",
    "    train_generator,\n",
    "    steps_per_epoch=train_generator.samples/BATCH_SIZE,\n",
    "    validation_data=validation_generator,\n",
    "    validation_steps=validation_generator.samples/BATCH_SIZE,\n",
    "    epochs=EPOCHS,\n",
    "    callbacks=[checkpoint, early_stop],\n",
    ")\n"
   ]
  }
 ],
 "metadata": {
  "kernelspec": {
   "display_name": "Python 3 (ipykernel)",
   "language": "python",
   "name": "python3"
  },
  "language_info": {
   "codemirror_mode": {
    "name": "ipython",
    "version": 3
   },
   "file_extension": ".py",
   "mimetype": "text/x-python",
   "name": "python",
   "nbconvert_exporter": "python",
   "pygments_lexer": "ipython3",
   "version": "3.8.4"
  }
 },
 "nbformat": 4,
 "nbformat_minor": 5
}
